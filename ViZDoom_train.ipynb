{
 "cells": [
  {
   "cell_type": "markdown",
   "id": "3666373c",
   "metadata": {},
   "source": [
    "# Import"
   ]
  },
  {
   "cell_type": "code",
   "execution_count": 1,
   "id": "35528604",
   "metadata": {},
   "outputs": [],
   "source": [
    "# Import vizdoom for game env\n",
    "from vizdoom import * \n",
    "# Import random for action sampling\n",
    "import random\n",
    "# Import time for sleeping\n",
    "import time \n",
    "# Import numpy for identity matrix\n",
    "import numpy as np\n",
    "import pandas as pd\n",
    "import matplotlib.pyplot as plt\n",
    "# Import environment base class from OpenAI Gym\n",
    "from gym import Env\n",
    "# Import gym spaces \n",
    "from gym.spaces import Discrete, Box\n",
    "# Import opencv \n",
    "import cv2\n",
    "# import ppo for training\n",
    "from stable_baselines3 import PPO"
   ]
  },
  {
   "cell_type": "markdown",
   "id": "5fd5d560",
   "metadata": {},
   "source": [
    "# Train"
   ]
  },
  {
   "cell_type": "code",
   "execution_count": 2,
   "id": "8233cb43",
   "metadata": {},
   "outputs": [],
   "source": [
    "# Create Vizdoom OpenAI Gym Environment\n",
    "class VizDoomGym(Env): \n",
    "    # Function that is called when we start the env\n",
    "    def __init__(self, render=False, config='ViZDoom/scenarios/deadly_corridor_s1.cfg'): \n",
    "        # Inherit from Env\n",
    "        super().__init__()\n",
    "        # Setup the game \n",
    "        self.game = DoomGame()\n",
    "        self.game.load_config(config)\n",
    "        \n",
    "        # Render frame logic\n",
    "        if render == False: \n",
    "            self.game.set_window_visible(False)\n",
    "        else:\n",
    "            self.game.set_window_visible(True)\n",
    "        \n",
    "        # Start the game \n",
    "        self.game.init()\n",
    "        \n",
    "        # Create the action space and observation space\n",
    "        self.observation_space = Box(low=0, high=255, shape=(100,160,1), dtype=np.uint8) \n",
    "        self.action_space = Discrete(7)\n",
    "        \n",
    "        # Game variables: HEALTH DAMAGE_TAKEN HITCOUNT SELECTED_WEAPON_AMMO\n",
    "        self.damage_taken = 0\n",
    "        self.hitcount = 0\n",
    "        self.ammo = 52 ## CHANGED\n",
    "        self.ep_length = 0\n",
    "        \n",
    "        \n",
    "    # This is how we take a step in the environment\n",
    "    def step(self, action):\n",
    "        # Specify action and take step \n",
    "        actions = np.identity(7)\n",
    "        movement_reward = self.game.make_action(actions[action]) \n",
    "        \n",
    "        reward = 0 \n",
    "        # Get all the other stuff we need to retun \n",
    "        if self.game.get_state(): \n",
    "            self.ep_length = self.ep_length+1\n",
    "            state = self.game.get_state().screen_buffer\n",
    "            state = self.grayscale(state)\n",
    "            \n",
    "            # Reward shaping\n",
    "            game_variables = self.game.get_state().game_variables\n",
    "            health, damage_taken, hitcount, ammo, dead = game_variables\n",
    "            \n",
    "            # Calculate reward deltas\n",
    "            damage_taken_delta = -damage_taken + self.damage_taken\n",
    "            self.damage_taken = damage_taken\n",
    "            hitcount_delta = hitcount - self.hitcount\n",
    "            self.hitcount = hitcount\n",
    "            ammo_delta = ammo - self.ammo\n",
    "            self.ammo = ammo\n",
    "            \n",
    "            #reward = movement_reward + damage_taken_delta*10 + hitcount_delta*200  + ammo_delta*5 \n",
    "            #reward = movement_reward + damage_taken_delta*30 + killcount_delta*100\n",
    "            #reward = damage_taken_delta*50 + hitcount_delta*1000\n",
    "            #reward = 0.5*movement_reward + damage_taken_delta*10 + hitcount_delta*400 + ammo_delta*5\n",
    "            reward = movement_reward\n",
    "            info = ammo\n",
    "        else: \n",
    "            state = np.zeros(self.observation_space.shape)\n",
    "            info = 0 \n",
    "        \n",
    "        info = {\"ep_length\": self.ep_length}\n",
    "        done = self.game.is_episode_finished()\n",
    "        \n",
    "        if done:\n",
    "            self.ep_length = 0\n",
    "        \n",
    "        return state, reward, done, info \n",
    "    \n",
    "    # Define how to render the game or environment \n",
    "    def render(): \n",
    "        pass\n",
    "    \n",
    "    # What happens when we start a new game \n",
    "    def reset(self): \n",
    "        self.game.new_episode()\n",
    "        state = self.game.get_state().screen_buffer\n",
    "        self.damage_taken = 0\n",
    "        self.hitcount = 0\n",
    "        self.ammo = 52 ## CHANGED\n",
    "        self.ep_length = 0\n",
    "        return self.grayscale(state)\n",
    "    \n",
    "    # Grayscale the game frame and resize it \n",
    "    def grayscale(self, observation):\n",
    "        gray = cv2.cvtColor(np.moveaxis(observation, 0, -1), cv2.COLOR_BGR2GRAY)\n",
    "        resize = cv2.resize(gray, (160,100), interpolation=cv2.INTER_CUBIC)\n",
    "        state = np.reshape(resize, (100,160,1))\n",
    "        return state\n",
    "    \n",
    "    # Call to close down the game\n",
    "    def close(self): \n",
    "        self.game.close()\n",
    "    \n",
    "    def get_game_variables(self):\n",
    "        return self.game.get_state().game_variables"
   ]
  },
  {
   "cell_type": "markdown",
   "id": "8266b2ff",
   "metadata": {},
   "source": [
    "# Log"
   ]
  },
  {
   "cell_type": "code",
   "execution_count": null,
   "id": "7d6635ca",
   "metadata": {},
   "outputs": [],
   "source": [
    "# Import os for file nav\n",
    "import os \n",
    "# Import callback class from sb3\n",
    "from stable_baselines3.common.callbacks import BaseCallback"
   ]
  },
  {
   "cell_type": "code",
   "execution_count": null,
   "id": "9305ff38",
   "metadata": {},
   "outputs": [],
   "source": [
    "class TrainAndLoggingCallback(BaseCallback):\n",
    "\n",
    "    def __init__(self, check_freq, save_path, verbose=1):\n",
    "        super(TrainAndLoggingCallback, self).__init__(verbose)\n",
    "        self.check_freq = check_freq\n",
    "        self.save_path = save_path\n",
    "\n",
    "    def _init_callback(self):\n",
    "        if self.save_path is not None:\n",
    "            os.makedirs(self.save_path, exist_ok=True)\n",
    "\n",
    "    def _on_step(self):\n",
    "        if self.n_calls % self.check_freq == 0:\n",
    "            model_path = os.path.join(self.save_path, 'best_model_{}'.format(self.n_calls))\n",
    "            self.model.save(model_path)\n",
    "\n",
    "        return True"
   ]
  },
  {
   "cell_type": "code",
   "execution_count": null,
   "id": "178db726",
   "metadata": {},
   "outputs": [],
   "source": [
    "CHECKPOINT_DIR = './train/train_corridor'\n",
    "LOG_DIR = './logs/log_corridor'"
   ]
  },
  {
   "cell_type": "code",
   "execution_count": null,
   "id": "69096144",
   "metadata": {},
   "outputs": [],
   "source": [
    "callback = TrainAndLoggingCallback(check_freq=10000, save_path=CHECKPOINT_DIR)"
   ]
  },
  {
   "cell_type": "markdown",
   "id": "6adfbb1d",
   "metadata": {},
   "source": [
    "# Evaluate "
   ]
  },
  {
   "cell_type": "code",
   "execution_count": 3,
   "id": "3a1e6351",
   "metadata": {},
   "outputs": [],
   "source": [
    "# Import eval policy to test agent\n",
    "from stable_baselines3.common.evaluation import evaluate_policy"
   ]
  },
  {
   "cell_type": "code",
   "execution_count": 4,
   "id": "31f57a18",
   "metadata": {},
   "outputs": [],
   "source": [
    "import sys\n",
    "newer_python_version = sys.version_info.major == 3 and sys.version_info.minor >= 8\n",
    "# print(\"here1\")\n",
    "# model_path = './models/train/corridor_final_models/train_corridor_6.4/best_model_320000.zip'\n",
    "# print(\"here2\")\n",
    "# env = VizDoomGym(render=True, config='ViZDoom/scenarios/deadly_corridor_s2.cfg')  #creating rendered environment\n",
    "# print(\"here3\")\n",
    "# if newer_python_version:\n",
    "#     custom_objects = {\n",
    "#         \"learning_rate\": 0.0,\n",
    "#         \"lr_schedule\": lambda _: 0.0,\n",
    "#         \"clip_range\": lambda _: 100.0,\n",
    "#     }\n",
    "# print(\"here4\")\n",
    "# model = PPO.load(model_path, env=env, custom_objects=custom_objects) #put the checkpoint that you want to evaluate here"
   ]
  },
  {
   "cell_type": "code",
   "execution_count": 5,
   "id": "d59978b6",
   "metadata": {},
   "outputs": [],
   "source": [
    "model_path = './models/train/corridor_final_models/train_corridor_4.5/best_model_560000.zip'\n",
    "# print(\"here2\")\n",
    "env = VizDoomGym(render=True, config='ViZDoom/scenarios/deadly_corridor_s2.cfg')  #creating rendered environment\n",
    "# print(\"here3\")\n",
    "\n"
   ]
  },
  {
   "cell_type": "code",
   "execution_count": 6,
   "id": "c2b8a425",
   "metadata": {},
   "outputs": [
    {
     "name": "stdout",
     "output_type": "stream",
     "text": [
      "here4\n",
      "Wrapping the env with a `Monitor` wrapper\n",
      "Wrapping the env in a DummyVecEnv.\n",
      "Wrapping the env in a VecTransposeImage.\n",
      "here5\n"
     ]
    },
    {
     "name": "stderr",
     "output_type": "stream",
     "text": [
      "C:\\Users\\gitan\\anaconda3new\\envs\\vizdoom\\lib\\site-packages\\stable_baselines3\\common\\base_class.py:729: UserWarning: You are probably loading a model saved with SB3 < 1.7.0, we deactivated exact_match so you can save the model again to avoid issues in the future (see https://github.com/DLR-RM/stable-baselines3/issues/1233 for more info). Original error: Error(s) in loading state_dict for ActorCriticCnnPolicy:\n",
      "\tMissing key(s) in state_dict: \"pi_features_extractor.cnn.0.weight\", \"pi_features_extractor.cnn.0.bias\", \"pi_features_extractor.cnn.2.weight\", \"pi_features_extractor.cnn.2.bias\", \"pi_features_extractor.cnn.4.weight\", \"pi_features_extractor.cnn.4.bias\", \"pi_features_extractor.linear.0.weight\", \"pi_features_extractor.linear.0.bias\", \"vf_features_extractor.cnn.0.weight\", \"vf_features_extractor.cnn.0.bias\", \"vf_features_extractor.cnn.2.weight\", \"vf_features_extractor.cnn.2.bias\", \"vf_features_extractor.cnn.4.weight\", \"vf_features_extractor.cnn.4.bias\", \"vf_features_extractor.linear.0.weight\", \"vf_features_extractor.linear.0.bias\".  \n",
      "Note: the model should still work fine, this only a warning.\n",
      "  \"You are probably loading a model saved with SB3 < 1.7.0, \"\n"
     ]
    }
   ],
   "source": [
    "if newer_python_version:\n",
    "    custom_objects = {\n",
    "        \"learning_rate\": 0.0,\n",
    "        \"lr_schedule\": lambda _: 0.0,\n",
    "        \"clip_range\": lambda _: 100.0,\n",
    "    }\n",
    "print(\"here4\")\n",
    "model = PPO.load(model_path, env=env) #put the checkpoint that you want to evaluate here\n",
    "print(\"here5\")"
   ]
  },
  {
   "cell_type": "code",
   "execution_count": null,
   "id": "556b09c1",
   "metadata": {},
   "outputs": [
    {
     "name": "stderr",
     "output_type": "stream",
     "text": [
      "C:\\Users\\gitan\\anaconda3new\\envs\\vizdoom\\lib\\site-packages\\stable_baselines3\\common\\evaluation.py:71: UserWarning: Evaluation environment is not wrapped with a ``Monitor`` wrapper. This may result in reporting modified episode lengths and rewards, if other wrappers happen to modify these. Consider wrapping environment first with ``Monitor`` wrapper.\n",
      "  UserWarning,\n"
     ]
    }
   ],
   "source": [
    "# Evaluate mean reward for 10 games\n",
    "mean_reward, _ = evaluate_policy(model, env, n_eval_episodes=10)"
   ]
  },
  {
   "cell_type": "code",
   "execution_count": null,
   "id": "8f15e540",
   "metadata": {},
   "outputs": [],
   "source": [
    "plot_reward = []\n",
    "plot_ep_len = []\n",
    "plot_group = []\n",
    "win_eps = []\n",
    "for episode in range(100):\n",
    "    time.sleep(1)\n",
    "    obs = env.reset()\n",
    "    done = False\n",
    "    total_reward = 0\n",
    "    ep_length_final = 0\n",
    "    count = 0\n",
    "    reward_list = []\n",
    "    \n",
    "    while not done: \n",
    "        \n",
    "        action, _ = model.predict(obs)\n",
    "        obs, reward, done, info = env.step(action)\n",
    "        time.sleep(0.1)\n",
    "        reward_list.append(reward)\n",
    "#         print('Iteration: {}'.format(count), end = ' ')\n",
    "        count = count + 1\n",
    "#         print('reward: {}'.format(reward), end = ' ')\n",
    "        \n",
    "        if(info[\"ep_length\"] != 0):\n",
    "            ep_length_final = info[\"ep_length\"]\n",
    "    \n",
    "        total_reward += reward\n",
    "        \n",
    "        if not done:\n",
    "            game_variables = env.get_game_variables()\n",
    "            health, damage_taken, hitcount, ammo, dead = game_variables\n",
    "#             print('health: {}'.format(health))\n",
    "            \n",
    "    health, damage_taken, hitcount, ammo, dead = game_variables\n",
    "    if done:\n",
    "        pass\n",
    "#         print('health: {}'.format(health))\n",
    "    plot_reward.append(total_reward)\n",
    "    plot_ep_len.append(ep_length_final)\n",
    "    reward_list_print = ['%.2f' % elem for elem in reward_list]\n",
    "#     print('')\n",
    "#     print('REWARD LIST: {}'.format(reward_list_print))\n",
    "    \n",
    "    if(total_reward > 2000):\n",
    "        win_eps.append(ep_length_final)\n",
    "        plot_group.append('Won')\n",
    "        print('')\n",
    "        print('WON!!. Episode {}: Episode Length = {}, Reward = {}'.format(episode, ep_length_final, total_reward))\n",
    "        print('')\n",
    "    else:\n",
    "        plot_group.append('Lost')\n",
    "        print('')\n",
    "        print('LOST!!. Game {}: Episode Length = {}, Reward = {}'.format(episode, ep_length_final, total_reward))\n",
    "        print('')\n",
    "    \n",
    "df = pd.DataFrame({'plot_reward': plot_reward, 'plot_ep_len': plot_ep_len, 'plot_group': plot_group})\n",
    "\n",
    "groups = df.groupby(plot_group)\n",
    "for name, group in groups:\n",
    "    print(group)\n",
    "    plt.plot(group.plot_ep_len, group.plot_reward, marker='o', linestyle='', markersize=7, label=name)\n",
    "\n",
    "plt.legend()"
   ]
  },
  {
   "cell_type": "code",
   "execution_count": null,
   "id": "0b1fb844",
   "metadata": {},
   "outputs": [],
   "source": [
    "env.close()"
   ]
  },
  {
   "cell_type": "code",
   "execution_count": null,
   "id": "946b0e85",
   "metadata": {},
   "outputs": [],
   "source": []
  },
  {
   "cell_type": "code",
   "execution_count": null,
   "id": "41dbe48e",
   "metadata": {},
   "outputs": [],
   "source": []
  },
  {
   "cell_type": "code",
   "execution_count": null,
   "id": "84184062",
   "metadata": {},
   "outputs": [],
   "source": []
  }
 ],
 "metadata": {
  "kernelspec": {
   "display_name": "Python 3 (ipykernel)",
   "language": "python",
   "name": "python3"
  },
  "language_info": {
   "codemirror_mode": {
    "name": "ipython",
    "version": 3
   },
   "file_extension": ".py",
   "mimetype": "text/x-python",
   "name": "python",
   "nbconvert_exporter": "python",
   "pygments_lexer": "ipython3",
   "version": "3.7.16"
  }
 },
 "nbformat": 4,
 "nbformat_minor": 5
}
